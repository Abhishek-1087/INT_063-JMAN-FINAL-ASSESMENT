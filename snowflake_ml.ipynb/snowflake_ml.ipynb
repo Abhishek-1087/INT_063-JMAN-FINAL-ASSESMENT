{
 "cells": [
  {
   "cell_type": "code",
   "execution_count": 3,
   "metadata": {},
   "outputs": [
    {
     "name": "stdout",
     "output_type": "stream",
     "text": [
      "CSV file saved for table 'MERGED_DATA'\n",
      "CSV file saved for table 'SKILLSDETAILS'\n",
      "CSV file saved for table 'STG_EVENTS'\n",
      "CSV file saved for table 'STG_SKILLSDETAILS'\n",
      "CSV file saved for table 'STG_USERINFOS'\n",
      "CSV file saved for table 'AVERAGE_SKILLS'\n",
      "CSV file saved for table 'CERTIFICATEDETAILS'\n",
      "CSV file saved for table 'EVENTS'\n",
      "CSV file saved for table 'GET_APPROVED_CERTIFICATE'\n",
      "CSV file saved for table 'USEREVENTS'\n",
      "CSV file saved for table 'STG_PROJECTDATAILS'\n",
      "CSV file saved for table 'COUNT_APPROVED_SKILLS'\n",
      "CSV file saved for table 'PROJECTDETAILS'\n",
      "CSV file saved for table 'REQUIRE_TRAINNIG'\n",
      "CSV file saved for table 'USERINFOS'\n",
      "CSV file saved for table 'EMPLOYEE_SKILLS'\n",
      "CSV file saved for table 'REGISTERED_USER'\n",
      "CSV file saved for table 'STG_CERTIFICATEDETAILS'\n",
      "CSV file saved for table 'STG_USEREVENT'\n",
      "CSV file saved for table 'STG_PROJECTDETAILS'\n"
     ]
    }
   ],
   "source": [
    "import snowflake.connector\n",
    "import csv\n",
    "import os\n",
    "\n",
    "# Set up connection parameters\n",
    "account = 'sl62884.central-india.azure'\n",
    "user = 'ABHISHEK'\n",
    "password = 'Abhi@1234'\n",
    "warehouse = 'COMPUTE_WH'\n",
    "database = 'JMAN_ASSESSMENT'\n",
    "schema = 'JMAN'\n",
    "\n",
    "# Establish connection\n",
    "conn = snowflake.connector.connect(\n",
    "    user=user,\n",
    "    password=password,\n",
    "    account=account,\n",
    "    warehouse=warehouse,\n",
    "    database=database,\n",
    "    schema=schema\n",
    ")\n",
    "\n",
    "# Create a cursor object\n",
    "cur = conn.cursor()\n",
    "\n",
    "# Execute a query to retrieve all tables in the schema\n",
    "cur.execute(\"\"\"\n",
    "    SELECT table_name \n",
    "    FROM information_schema.tables \n",
    "    WHERE table_schema = %s\n",
    "\"\"\", (schema,))\n",
    "\n",
    "# Fetch all the table names\n",
    "tables = cur.fetchall()\n",
    "\n",
    "# Create a directory to save CSV files if it doesn't exist\n",
    "output_dir = 'output_csv'\n",
    "os.makedirs(output_dir, exist_ok=True)\n",
    "\n",
    "# Process each table\n",
    "for table in tables:\n",
    "    table_name = table[0]\n",
    "    # Execute a query to fetch all data from the table\n",
    "    cur.execute(f\"SELECT * FROM {schema}.{table_name}\")\n",
    "    # Fetch all the rows\n",
    "    rows = cur.fetchall()\n",
    "    # Define the CSV file path\n",
    "    csv_file_path = os.path.join(output_dir, f\"{table_name}.csv\")\n",
    "    # Write data to CSV file\n",
    "    with open(csv_file_path, 'w', newline='') as csv_file:\n",
    "        csv_writer = csv.writer(csv_file)\n",
    "        # Write header\n",
    "        csv_writer.writerow([desc[0] for desc in cur.description])\n",
    "        # Write data rows\n",
    "        csv_writer.writerows(rows)\n",
    "    print(f\"CSV file saved for table '{table_name}'\")\n",
    "\n",
    "# Close the cursor and connection\n",
    "cur.close()\n",
    "conn.close()\n"
   ]
  },
  {
   "cell_type": "code",
   "execution_count": null,
   "metadata": {},
   "outputs": [],
   "source": []
  }
 ],
 "metadata": {
  "kernelspec": {
   "display_name": "Python 3",
   "language": "python",
   "name": "python3"
  },
  "language_info": {
   "codemirror_mode": {
    "name": "ipython",
    "version": 3
   },
   "file_extension": ".py",
   "mimetype": "text/x-python",
   "name": "python",
   "nbconvert_exporter": "python",
   "pygments_lexer": "ipython3",
   "version": "3.11.0"
  }
 },
 "nbformat": 4,
 "nbformat_minor": 2
}
